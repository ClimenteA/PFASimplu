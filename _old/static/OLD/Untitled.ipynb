{
 "cells": [
  {
   "cell_type": "code",
   "execution_count": 9,
   "id": "58693956",
   "metadata": {},
   "outputs": [],
   "source": [
    "import json\n",
    "import pandas as pd"
   ]
  },
  {
   "cell_type": "code",
   "execution_count": 10,
   "id": "f7b51e83",
   "metadata": {},
   "outputs": [],
   "source": [
    "df = pd.read_excel(\"mijloacefixe.xlsx\")"
   ]
  },
  {
   "cell_type": "code",
   "execution_count": 11,
   "id": "afc086a1",
   "metadata": {
    "scrolled": true
   },
   "outputs": [
    {
     "data": {
      "text/plain": [
       "Index(['GRUPA', 'CODUL DE CLASIFICARE', 'DENUMIREA ACTIVELOR FIXE',\n",
       "       'DURATE NORMALE DE FUNCTONARE (ANI)'],\n",
       "      dtype='object')"
      ]
     },
     "execution_count": 11,
     "metadata": {},
     "output_type": "execute_result"
    }
   ],
   "source": [
    "df.columns"
   ]
  },
  {
   "cell_type": "code",
   "execution_count": 12,
   "id": "6ace795c",
   "metadata": {},
   "outputs": [],
   "source": [
    "df.columns = ['grupa', 'cod_clasificare', 'denumire_active_fixe', 'durata_amortizare_in_ani']"
   ]
  },
  {
   "cell_type": "code",
   "execution_count": 30,
   "id": "200d9a33",
   "metadata": {},
   "outputs": [],
   "source": [
    "mijloacefixe_cod = {} \n",
    "for idx, row in df.iterrows():\n",
    "    \n",
    "    mijloacefixe_cod[row[1]] = {\n",
    "        'grupa': row[0],\n",
    "        'cod_clasificare': row[1],\n",
    "        'denumire_active_fixe': row[2],\n",
    "        'durata_amortizare_in_ani': row[3]\n",
    "    }"
   ]
  },
  {
   "cell_type": "code",
   "execution_count": 33,
   "id": "03381017",
   "metadata": {},
   "outputs": [],
   "source": [
    "with open(\"mijloacefixecod.json\", \"w\") as j:\n",
    "    json.dump(mijloacefixe_cod, j)"
   ]
  },
  {
   "cell_type": "code",
   "execution_count": 35,
   "id": "4fe85231",
   "metadata": {},
   "outputs": [],
   "source": [
    "sample = {'1.1.1.': {'grupa': 'GRUPA 1. CONSTRUCTII',\n",
    "  'cod_clasificare': '1.1.1.',\n",
    "  'denumire_active_fixe': 'Cladiri industriale in afara de cladirile din:',\n",
    "  'durata_amortizare_in_ani': '40-60'}\n",
    "}"
   ]
  },
  {
   "cell_type": "code",
   "execution_count": 37,
   "id": "8f4dd092",
   "metadata": {},
   "outputs": [
    {
     "data": {
      "text/plain": [
       "{'grupa': 'GRUPA 1. CONSTRUCTII',\n",
       " 'cod_clasificare': '1.1.1.',\n",
       " 'denumire_active_fixe': 'Cladiri industriale in afara de cladirile din:',\n",
       " 'durata_amortizare_in_ani': '40-60'}"
      ]
     },
     "execution_count": 37,
     "metadata": {},
     "output_type": "execute_result"
    }
   ],
   "source": [
    "sample['1.1.1.']"
   ]
  },
  {
   "cell_type": "code",
   "execution_count": null,
   "id": "2d030c50",
   "metadata": {},
   "outputs": [],
   "source": []
  },
  {
   "cell_type": "code",
   "execution_count": 5,
   "id": "55d0f07d",
   "metadata": {},
   "outputs": [],
   "source": [
    "for name, df in df.groupby('GRUPA'):\n",
    "    df = df[['CODUL DE CLASIFICARE', 'DENUMIREA ACTIVELOR FIXE', 'DURATE NORMALE DE FUNCTONARE (ANI)']]\n",
    "    df.to_html(name + \".html\", index=False)"
   ]
  },
  {
   "cell_type": "code",
   "execution_count": 24,
   "id": "84e2bd96",
   "metadata": {},
   "outputs": [],
   "source": [
    "with open(\"mijloacefixelist.json\", \"w\") as j:\n",
    "    json.dump(df.to_dict('list'), j)"
   ]
  },
  {
   "cell_type": "code",
   "execution_count": 25,
   "id": "d3dec474",
   "metadata": {},
   "outputs": [],
   "source": [
    "with open(\"mijloacefixerecords.json\", \"w\") as j:\n",
    "    json.dump(df.to_dict('records'), j)"
   ]
  },
  {
   "cell_type": "code",
   "execution_count": 8,
   "id": "d5fafb79",
   "metadata": {},
   "outputs": [],
   "source": [
    "uniquelist_mijlocfix = {\n",
    "\n",
    "    'grupa': df['grupa'].unique().tolist(),\n",
    "    'cod_clasificare': df['cod_clasificare'].unique().tolist(),\n",
    "    'denumire_active_fixe': df['denumire_active_fixe'].unique().tolist(),\n",
    "    'durata_amortizare_in_ani': df['durata_amortizare_in_ani'].unique().tolist(),\n",
    "    \n",
    "}\n",
    "\n",
    "with open(\"mijloacefixe_uniquelist.json\", \"w\") as j:\n",
    "    json.dump(uniquelist_mijlocfix, j)"
   ]
  },
  {
   "cell_type": "code",
   "execution_count": null,
   "id": "61ac29d4",
   "metadata": {},
   "outputs": [],
   "source": []
  },
  {
   "cell_type": "code",
   "execution_count": null,
   "id": "ed86ad32",
   "metadata": {},
   "outputs": [],
   "source": []
  },
  {
   "cell_type": "code",
   "execution_count": null,
   "id": "dd3ef098",
   "metadata": {},
   "outputs": [],
   "source": []
  },
  {
   "cell_type": "code",
   "execution_count": null,
   "id": "304c5c98",
   "metadata": {},
   "outputs": [],
   "source": []
  }
 ],
 "metadata": {
  "kernelspec": {
   "display_name": "Python 3 (ipykernel)",
   "language": "python",
   "name": "python3"
  },
  "language_info": {
   "codemirror_mode": {
    "name": "ipython",
    "version": 3
   },
   "file_extension": ".py",
   "mimetype": "text/x-python",
   "name": "python",
   "nbconvert_exporter": "python",
   "pygments_lexer": "ipython3",
   "version": "3.8.10"
  }
 },
 "nbformat": 4,
 "nbformat_minor": 5
}
