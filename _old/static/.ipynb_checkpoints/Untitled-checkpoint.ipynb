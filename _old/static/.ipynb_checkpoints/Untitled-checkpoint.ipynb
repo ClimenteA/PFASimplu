{
 "cells": [
  {
   "cell_type": "code",
   "execution_count": 9,
   "id": "58693956",
   "metadata": {},
   "outputs": [],
   "source": [
    "import json\n",
    "import pandas as pd"
   ]
  },
  {
   "cell_type": "code",
   "execution_count": 10,
   "id": "f7b51e83",
   "metadata": {},
   "outputs": [],
   "source": [
    "df = pd.read_excel(\"mijloacefixe.xlsx\")"
   ]
  },
  {
   "cell_type": "code",
   "execution_count": 11,
   "id": "afc086a1",
   "metadata": {
    "scrolled": true
   },
   "outputs": [
    {
     "data": {
      "text/plain": [
       "Index(['GRUPA', 'CODUL DE CLASIFICARE', 'DENUMIREA ACTIVELOR FIXE',\n",
       "       'DURATE NORMALE DE FUNCTONARE (ANI)'],\n",
       "      dtype='object')"
      ]
     },
     "execution_count": 11,
     "metadata": {},
     "output_type": "execute_result"
    }
   ],
   "source": [
    "df.columns"
   ]
  },
  {
   "cell_type": "code",
   "execution_count": 12,
   "id": "6257c64d",
   "metadata": {},
   "outputs": [],
   "source": [
    "df.columns = ['grupa', 'cod_clasificare', 'denumire_active_fixe', 'durata_amortizare_in_ani']"
   ]
  },
  {
   "cell_type": "code",
   "execution_count": 27,
   "id": "68b7e6dc",
   "metadata": {},
   "outputs": [
    {
     "name": "stdout",
     "output_type": "stream",
     "text": [
      "1.1.1.\n"
     ]
    }
   ],
   "source": [
    "mijloacefixe_cod = {} \n",
    "for idx, row in df.iterrows():\n",
    "    \n",
    "    mijloacefixe_cod[row[1]] = {\n",
    "        'grupa': row[0],\n",
    "        'cod_clasificare': row[1],\n",
    "        'denumire_active_fixe': row[0],\n",
    "        'durata_amortizare_in_ani': row[0]\n",
    "    }\n",
    "    \n",
    "    print(mijloacefixe_cod)\n",
    "    \n",
    "    break"
   ]
  },
  {
   "cell_type": "code",
   "execution_count": 17,
   "id": "b16c4f82",
   "metadata": {},
   "outputs": [
    {
     "data": {
      "text/html": [
       "<div>\n",
       "<style scoped>\n",
       "    .dataframe tbody tr th:only-of-type {\n",
       "        vertical-align: middle;\n",
       "    }\n",
       "\n",
       "    .dataframe tbody tr th {\n",
       "        vertical-align: top;\n",
       "    }\n",
       "\n",
       "    .dataframe thead th {\n",
       "        text-align: right;\n",
       "    }\n",
       "</style>\n",
       "<table border=\"1\" class=\"dataframe\">\n",
       "  <thead>\n",
       "    <tr style=\"text-align: right;\">\n",
       "      <th></th>\n",
       "      <th>grupa</th>\n",
       "      <th>cod_clasificare</th>\n",
       "      <th>denumire_active_fixe</th>\n",
       "      <th>durata_amortizare_in_ani</th>\n",
       "    </tr>\n",
       "  </thead>\n",
       "  <tbody>\n",
       "    <tr>\n",
       "      <th>0</th>\n",
       "      <td>GRUPA 1. CONSTRUCTII</td>\n",
       "      <td>1.1.1.</td>\n",
       "      <td>Cladiri industriale in afara de cladirile din:</td>\n",
       "      <td>40-60</td>\n",
       "    </tr>\n",
       "    <tr>\n",
       "      <th>1</th>\n",
       "      <td>GRUPA 1. CONSTRUCTII</td>\n",
       "      <td>1.1.1.1.</td>\n",
       "      <td>– industria alimentara, industria materialelor...</td>\n",
       "      <td>28-42</td>\n",
       "    </tr>\n",
       "    <tr>\n",
       "      <th>2</th>\n",
       "      <td>GRUPA 1. CONSTRUCTII</td>\n",
       "      <td>1.1.1.2.</td>\n",
       "      <td>– industria chimica.</td>\n",
       "      <td>24-36</td>\n",
       "    </tr>\n",
       "    <tr>\n",
       "      <th>3</th>\n",
       "      <td>GRUPA 1. CONSTRUCTII</td>\n",
       "      <td>1.1.2.</td>\n",
       "      <td>Constructii usoare cu structuri metalice (hale...</td>\n",
       "      <td>16-24</td>\n",
       "    </tr>\n",
       "    <tr>\n",
       "      <th>4</th>\n",
       "      <td>GRUPA 1. CONSTRUCTII</td>\n",
       "      <td>1.1.2.1.</td>\n",
       "      <td>– baraci, soproane, etc.</td>\n",
       "      <td>8-12</td>\n",
       "    </tr>\n",
       "    <tr>\n",
       "      <th>...</th>\n",
       "      <td>...</td>\n",
       "      <td>...</td>\n",
       "      <td>...</td>\n",
       "      <td>...</td>\n",
       "    </tr>\n",
       "    <tr>\n",
       "      <th>499</th>\n",
       "      <td>GRUPA 3. MOBILIER, APARATURA BIROTICA, SISTEME...</td>\n",
       "      <td>3.3.3.</td>\n",
       "      <td>Automate bancare, bancomate.</td>\n",
       "      <td>8-12</td>\n",
       "    </tr>\n",
       "    <tr>\n",
       "      <th>500</th>\n",
       "      <td>GRUPA 3. MOBILIER, APARATURA BIROTICA, SISTEME...</td>\n",
       "      <td>3.3.4.</td>\n",
       "      <td>Sisteme de protectie la incendiu (elemente de ...</td>\n",
       "      <td>12-18</td>\n",
       "    </tr>\n",
       "    <tr>\n",
       "      <th>501</th>\n",
       "      <td>GRUPA 3. MOBILIER, APARATURA BIROTICA, SISTEME...</td>\n",
       "      <td>3.3.5.</td>\n",
       "      <td>Sisteme pentru identificare si controlul acces...</td>\n",
       "      <td>8-12</td>\n",
       "    </tr>\n",
       "    <tr>\n",
       "      <th>502</th>\n",
       "      <td>GRUPA 3. MOBILIER, APARATURA BIROTICA, SISTEME...</td>\n",
       "      <td>3.3.6.</td>\n",
       "      <td>Alte sisteme de protectie a valorilor umane si...</td>\n",
       "      <td>12-18</td>\n",
       "    </tr>\n",
       "    <tr>\n",
       "      <th>503</th>\n",
       "      <td>GRUPA 3. MOBILIER, APARATURA BIROTICA, SISTEME...</td>\n",
       "      <td>3.4.</td>\n",
       "      <td>Alte active corporale neregasite in cele speci...</td>\n",
       "      <td>8-15</td>\n",
       "    </tr>\n",
       "  </tbody>\n",
       "</table>\n",
       "<p>504 rows × 4 columns</p>\n",
       "</div>"
      ],
      "text/plain": [
       "                                                 grupa cod_clasificare  \\\n",
       "0                                 GRUPA 1. CONSTRUCTII          1.1.1.   \n",
       "1                                 GRUPA 1. CONSTRUCTII        1.1.1.1.   \n",
       "2                                 GRUPA 1. CONSTRUCTII        1.1.1.2.   \n",
       "3                                 GRUPA 1. CONSTRUCTII          1.1.2.   \n",
       "4                                 GRUPA 1. CONSTRUCTII        1.1.2.1.   \n",
       "..                                                 ...             ...   \n",
       "499  GRUPA 3. MOBILIER, APARATURA BIROTICA, SISTEME...          3.3.3.   \n",
       "500  GRUPA 3. MOBILIER, APARATURA BIROTICA, SISTEME...          3.3.4.   \n",
       "501  GRUPA 3. MOBILIER, APARATURA BIROTICA, SISTEME...          3.3.5.   \n",
       "502  GRUPA 3. MOBILIER, APARATURA BIROTICA, SISTEME...          3.3.6.   \n",
       "503  GRUPA 3. MOBILIER, APARATURA BIROTICA, SISTEME...            3.4.   \n",
       "\n",
       "                                  denumire_active_fixe  \\\n",
       "0       Cladiri industriale in afara de cladirile din:   \n",
       "1    – industria alimentara, industria materialelor...   \n",
       "2                                 – industria chimica.   \n",
       "3    Constructii usoare cu structuri metalice (hale...   \n",
       "4                             – baraci, soproane, etc.   \n",
       "..                                                 ...   \n",
       "499                       Automate bancare, bancomate.   \n",
       "500  Sisteme de protectie la incendiu (elemente de ...   \n",
       "501  Sisteme pentru identificare si controlul acces...   \n",
       "502  Alte sisteme de protectie a valorilor umane si...   \n",
       "503  Alte active corporale neregasite in cele speci...   \n",
       "\n",
       "    durata_amortizare_in_ani  \n",
       "0                      40-60  \n",
       "1                      28-42  \n",
       "2                      24-36  \n",
       "3                      16-24  \n",
       "4                       8-12  \n",
       "..                       ...  \n",
       "499                     8-12  \n",
       "500                    12-18  \n",
       "501                     8-12  \n",
       "502                    12-18  \n",
       "503                     8-15  \n",
       "\n",
       "[504 rows x 4 columns]"
      ]
     },
     "execution_count": 17,
     "metadata": {},
     "output_type": "execute_result"
    }
   ],
   "source": []
  },
  {
   "cell_type": "code",
   "execution_count": null,
   "id": "ced8f86b",
   "metadata": {},
   "outputs": [],
   "source": []
  },
  {
   "cell_type": "code",
   "execution_count": null,
   "id": "5c16683e",
   "metadata": {},
   "outputs": [],
   "source": []
  },
  {
   "cell_type": "code",
   "execution_count": null,
   "id": "0906e40f",
   "metadata": {},
   "outputs": [],
   "source": []
  },
  {
   "cell_type": "code",
   "execution_count": null,
   "id": "e4d612bc",
   "metadata": {},
   "outputs": [],
   "source": []
  },
  {
   "cell_type": "code",
   "execution_count": 5,
   "id": "55d0f07d",
   "metadata": {},
   "outputs": [],
   "source": [
    "for name, df in df.groupby('GRUPA'):\n",
    "    df = df[['CODUL DE CLASIFICARE', 'DENUMIREA ACTIVELOR FIXE', 'DURATE NORMALE DE FUNCTONARE (ANI)']]\n",
    "    df.to_html(name + \".html\", index=False)"
   ]
  },
  {
   "cell_type": "code",
   "execution_count": 24,
   "id": "84e2bd96",
   "metadata": {},
   "outputs": [],
   "source": [
    "with open(\"mijloacefixelist.json\", \"w\") as j:\n",
    "    json.dump(df.to_dict('list'), j)"
   ]
  },
  {
   "cell_type": "code",
   "execution_count": 25,
   "id": "d3dec474",
   "metadata": {},
   "outputs": [],
   "source": [
    "with open(\"mijloacefixerecords.json\", \"w\") as j:\n",
    "    json.dump(df.to_dict('records'), j)"
   ]
  },
  {
   "cell_type": "code",
   "execution_count": 8,
   "id": "b5d94968",
   "metadata": {},
   "outputs": [],
   "source": [
    "uniquelist_mijlocfix = {\n",
    "\n",
    "    'grupa': df['grupa'].unique().tolist(),\n",
    "    'cod_clasificare': df['cod_clasificare'].unique().tolist(),\n",
    "    'denumire_active_fixe': df['denumire_active_fixe'].unique().tolist(),\n",
    "    'durata_amortizare_in_ani': df['durata_amortizare_in_ani'].unique().tolist(),\n",
    "    \n",
    "}\n",
    "\n",
    "with open(\"mijloacefixe_uniquelist.json\", \"w\") as j:\n",
    "    json.dump(uniquelist_mijlocfix, j)"
   ]
  },
  {
   "cell_type": "code",
   "execution_count": null,
   "id": "1b193834",
   "metadata": {},
   "outputs": [],
   "source": []
  },
  {
   "cell_type": "code",
   "execution_count": null,
   "id": "c30d9463",
   "metadata": {},
   "outputs": [],
   "source": []
  },
  {
   "cell_type": "code",
   "execution_count": null,
   "id": "dd3ef098",
   "metadata": {},
   "outputs": [],
   "source": []
  },
  {
   "cell_type": "code",
   "execution_count": null,
   "id": "304c5c98",
   "metadata": {},
   "outputs": [],
   "source": []
  }
 ],
 "metadata": {
  "kernelspec": {
   "display_name": "Python 3 (ipykernel)",
   "language": "python",
   "name": "python3"
  },
  "language_info": {
   "codemirror_mode": {
    "name": "ipython",
    "version": 3
   },
   "file_extension": ".py",
   "mimetype": "text/x-python",
   "name": "python",
   "nbconvert_exporter": "python",
   "pygments_lexer": "ipython3",
   "version": "3.8.10"
  }
 },
 "nbformat": 4,
 "nbformat_minor": 5
}
