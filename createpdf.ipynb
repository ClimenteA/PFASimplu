{
 "cells": [
  {
   "cell_type": "code",
   "execution_count": null,
   "id": "55d499b6-9f66-416b-8086-dca5fe89d508",
   "metadata": {},
   "outputs": [],
   "source": [
    "# !pip install fpdf-table==1.1.5"
   ]
  },
  {
   "cell_type": "code",
   "execution_count": 1,
   "id": "0046f620-bfa5-4137-8a32-b916a879c008",
   "metadata": {},
   "outputs": [],
   "source": [
    "import os\n",
    "import platform\n",
    "from fpdf_table import PDFTable, Align\n",
    "from unidecode import unidecode"
   ]
  },
  {
   "cell_type": "code",
   "execution_count": 2,
   "id": "9c98ddc9-c762-4185-82f6-972e2428de81",
   "metadata": {},
   "outputs": [],
   "source": [
    "\n",
    "def get_system_default_font():\n",
    "    # system = platform.system()\n",
    "\n",
    "    return {\n",
    "            \"font_name\": \"arial\", \n",
    "            \"font_extension\": \"ttf\", \n",
    "            \"font_dir\": \"/home/climentea/Documents/PFASimplu/static/arial-font\"\n",
    "    }\n",
    "    "
   ]
  },
  {
   "cell_type": "code",
   "execution_count": 3,
   "id": "7f86fc0e-03c0-4504-b540-310ef74d0f5b",
   "metadata": {},
   "outputs": [
    {
     "ename": "FileNotFoundError",
     "evalue": "TTF Font file not found: /home/climentea/Documents/PFASimplu/static/arial-font\\arial.ttf",
     "output_type": "error",
     "traceback": [
      "\u001b[1;31m---------------------------------------------------------------------------\u001b[0m",
      "\u001b[1;31mFileNotFoundError\u001b[0m                         Traceback (most recent call last)",
      "Cell \u001b[1;32mIn[3], line 58\u001b[0m\n\u001b[0;32m     55\u001b[0m pdf \u001b[38;5;241m=\u001b[39m PDFTable()\n\u001b[0;32m     57\u001b[0m font \u001b[38;5;241m=\u001b[39m get_system_default_font()\n\u001b[1;32m---> 58\u001b[0m \u001b[43mpdf\u001b[49m\u001b[38;5;241;43m.\u001b[39;49m\u001b[43madd_fonts_custom\u001b[49m\u001b[43m(\u001b[49m\u001b[43mfont_name\u001b[49m\u001b[38;5;241;43m=\u001b[39;49m\u001b[43mfont\u001b[49m\u001b[43m[\u001b[49m\u001b[38;5;124;43m\"\u001b[39;49m\u001b[38;5;124;43mfont_name\u001b[39;49m\u001b[38;5;124;43m\"\u001b[39;49m\u001b[43m]\u001b[49m\u001b[43m,\u001b[49m\u001b[43m \u001b[49m\u001b[43mfont_extension\u001b[49m\u001b[38;5;241;43m=\u001b[39;49m\u001b[43mfont\u001b[49m\u001b[43m[\u001b[49m\u001b[38;5;124;43m\"\u001b[39;49m\u001b[38;5;124;43mfont_extension\u001b[39;49m\u001b[38;5;124;43m\"\u001b[39;49m\u001b[43m]\u001b[49m\u001b[43m,\u001b[49m\u001b[43m \u001b[49m\u001b[43mfont_dir\u001b[49m\u001b[38;5;241;43m=\u001b[39;49m\u001b[43mfont\u001b[49m\u001b[43m[\u001b[49m\u001b[38;5;124;43m\"\u001b[39;49m\u001b[38;5;124;43mfont_dir\u001b[39;49m\u001b[38;5;124;43m\"\u001b[39;49m\u001b[43m]\u001b[49m\u001b[43m,\u001b[49m\u001b[43m \u001b[49m\u001b[43mset_default\u001b[49m\u001b[38;5;241;43m=\u001b[39;49m\u001b[38;5;28;43;01mTrue\u001b[39;49;00m\u001b[43m)\u001b[49m\n\u001b[0;32m     61\u001b[0m \u001b[38;5;66;03m# Date identificare factura\u001b[39;00m\n\u001b[0;32m     62\u001b[0m pdf\u001b[38;5;241m.\u001b[39mtable_header([data[\u001b[38;5;124m'\u001b[39m\u001b[38;5;124mheader_factura\u001b[39m\u001b[38;5;124m'\u001b[39m]], align\u001b[38;5;241m=\u001b[39mAlign\u001b[38;5;241m.\u001b[39mL)\n",
      "File \u001b[1;32m~\\Documents\\PFASimplu\\.venv\\Lib\\site-packages\\fpdf_table\\main.py:117\u001b[0m, in \u001b[0;36mPDFTable.add_fonts_custom\u001b[1;34m(self, font_name, font_extension, font_dir, set_default)\u001b[0m\n\u001b[0;32m    115\u001b[0m \u001b[38;5;66;03m# normal\u001b[39;00m\n\u001b[0;32m    116\u001b[0m font_file \u001b[38;5;241m=\u001b[39m os\u001b[38;5;241m.\u001b[39mpath\u001b[38;5;241m.\u001b[39mjoin(font_dir, \u001b[38;5;124mf\u001b[39m\u001b[38;5;124m'\u001b[39m\u001b[38;5;132;01m{\u001b[39;00mfont_name\u001b[38;5;132;01m}\u001b[39;00m\u001b[38;5;124m.\u001b[39m\u001b[38;5;132;01m{\u001b[39;00mfont_extension\u001b[38;5;132;01m}\u001b[39;00m\u001b[38;5;124m'\u001b[39m)\n\u001b[1;32m--> 117\u001b[0m \u001b[38;5;28;43mself\u001b[39;49m\u001b[38;5;241;43m.\u001b[39;49m\u001b[43madd_font\u001b[49m\u001b[43m(\u001b[49m\u001b[43mfont_name\u001b[49m\u001b[43m,\u001b[49m\u001b[43m \u001b[49m\u001b[38;5;124;43m'\u001b[39;49m\u001b[38;5;124;43m'\u001b[39;49m\u001b[43m,\u001b[49m\u001b[43m \u001b[49m\u001b[43mfname\u001b[49m\u001b[38;5;241;43m=\u001b[39;49m\u001b[43mfont_file\u001b[49m\u001b[43m)\u001b[49m\n\u001b[0;32m    118\u001b[0m \u001b[38;5;66;03m# bold\u001b[39;00m\n\u001b[0;32m    119\u001b[0m font_file \u001b[38;5;241m=\u001b[39m os\u001b[38;5;241m.\u001b[39mpath\u001b[38;5;241m.\u001b[39mjoin(font_dir, \u001b[38;5;124mf\u001b[39m\u001b[38;5;124m'\u001b[39m\u001b[38;5;132;01m{\u001b[39;00mfont_name\u001b[38;5;132;01m}\u001b[39;00m\u001b[38;5;124m-Bold.\u001b[39m\u001b[38;5;132;01m{\u001b[39;00mfont_extension\u001b[38;5;132;01m}\u001b[39;00m\u001b[38;5;124m'\u001b[39m)\n",
      "File \u001b[1;32m~\\Documents\\PFASimplu\\.venv\\Lib\\site-packages\\fpdf\\fpdf.py:1604\u001b[0m, in \u001b[0;36mFPDF.add_font\u001b[1;34m(self, family, style, fname, uni)\u001b[0m\n\u001b[0;32m   1602\u001b[0m         \u001b[38;5;28;01mbreak\u001b[39;00m\n\u001b[0;32m   1603\u001b[0m \u001b[38;5;28;01melse\u001b[39;00m:\n\u001b[1;32m-> 1604\u001b[0m     \u001b[38;5;28;01mraise\u001b[39;00m \u001b[38;5;167;01mFileNotFoundError\u001b[39;00m(\u001b[38;5;124mf\u001b[39m\u001b[38;5;124m\"\u001b[39m\u001b[38;5;124mTTF Font file not found: \u001b[39m\u001b[38;5;132;01m{\u001b[39;00mfname\u001b[38;5;132;01m}\u001b[39;00m\u001b[38;5;124m\"\u001b[39m)\n\u001b[0;32m   1606\u001b[0m \u001b[38;5;66;03m# include numbers in the subset! (if alias present)\u001b[39;00m\n\u001b[0;32m   1607\u001b[0m \u001b[38;5;66;03m# ensure that alias is mapped 1-by-1 additionally (must be replaceable)\u001b[39;00m\n\u001b[0;32m   1608\u001b[0m sbarr \u001b[38;5;241m=\u001b[39m \u001b[38;5;124m\"\u001b[39m\u001b[38;5;130;01m\\x00\u001b[39;00m\u001b[38;5;124m \u001b[39m\u001b[38;5;124m\"\u001b[39m\n",
      "\u001b[1;31mFileNotFoundError\u001b[0m: TTF Font file not found: /home/climentea/Documents/PFASimplu/static/arial-font\\arial.ttf"
     ]
    }
   ],
   "source": [
    "\n",
    "\n",
    "data = {\n",
    "    \"header_factura\": \"FACTURA\",\n",
    "    'header_date_factura': ['Serie', 'Numar', 'Data factura', 'Data scadenta'],\n",
    "    \"serie\": \"CA\",\n",
    "    \"numar\": \"14\",\n",
    "    \"data_emitere\": \"2024-05-23\",\n",
    "    \"data_scadenta\": \"2024-06-23\",\n",
    "    'header_date_client_furnizor': ['Detalii', 'Furnizor', 'Client'],\n",
    "    'nume_lang': 'Nume',\n",
    "    'nume_furnizor': \"Alin Climente PFA\",\n",
    "    'nume_client': 'Google LLC',\n",
    "    'nr_reg_com_lang': 'Nr.Reg.Com.',\n",
    "    'nr_reg_com_furnizor': '',\n",
    "    'nr_reg_com_client': 'F34/3049/2023',\n",
    "    'cif_lang': 'CUI/CIF/VAT',\n",
    "    'cif_furnizor': '45999903',\n",
    "    'cif_client': 'RO9848488488',\n",
    "    'adresa_lang': 'Adresa',\n",
    "    'adresa_furnizor': 'Iași, Sat Vlădeni, nr.182, sc.1, et.5 la parter, langa centru satului, topligari Comuna Vlădeni cod poştal oficiu:707590',\n",
    "    'adresa_client': 'Bucuresti, Sat Calugareni, nr.182, sc.1, et.5 la parter, langa centru satului, topligari Comuna Vlădeni cod poştal oficiu:707590',\n",
    "    'email_lang': 'Email',\n",
    "    'email_furnizor': 'furnizor_de_top_cel_mai_bun@goggle.com',\n",
    "    'email_client': 'furnizor_de_top_cel_mai_bun@goggle.com',\n",
    "    'telefon_lang': 'Telefon',\n",
    "    'telefon_furnizor': '07566565666565',\n",
    "    'telefon_client': '07566565666565',\n",
    "    'iban_lang': 'IBAN',\n",
    "    'iban_furnizor': \"RO70AGRV123323233434343432\",\n",
    "    'iban_client': \"-\",\n",
    "    'header_produse_servicii': ['Nr.Crt.', 'Denumire produse sau servicii', 'U.M.', 'Cantitate', 'Pret unitar fara T.V.A.', 'Valoarea (RON)'], \n",
    "    'produse_sau_servicii': [\n",
    "        {\n",
    "            'id': '1',\n",
    "            'nume_produs_sau_serviciu': 'Servicii It',\n",
    "            'cod_unitate': 'HUR - Ore',\n",
    "            'numar_unitati': '23',\n",
    "            'pret_pe_unitate': '150',\n",
    "            'subtotal': '49599',\n",
    "        },\n",
    "        {\n",
    "            'id': '2',\n",
    "            'nume_produs_sau_serviciu': 'Servicii It',\n",
    "            'cod_unitate': 'HUR - Ore',\n",
    "            'numar_unitati': '10',\n",
    "            'pret_pe_unitate': '50',\n",
    "            'subtotal': '3435',\n",
    "        },\n",
    "    ],\n",
    "    \"header_total_de_plata\": \"Total de plata:\",\n",
    "    \"total_de_plata\": \"1233.33\",\n",
    "    \"valuta\": \"RON\",\n",
    "}\n",
    "\n",
    "\n",
    "pdf = PDFTable()\n",
    "\n",
    "font = get_system_default_font()\n",
    "pdf.add_fonts_custom(font_name=font[\"font_name\"], font_extension=font[\"font_extension\"], font_dir=font[\"font_dir\"], set_default=True)\n",
    "\n",
    "\n",
    "# Date identificare factura\n",
    "pdf.table_header([data['header_factura']], align=Align.L)\n",
    "pdf.table_row([''])\n",
    "\n",
    "pdf.table_header(data['header_date_factura'], align=Align.L)\n",
    "pdf.table_row([data['serie'], data['numar'], data['data_emitere'], data['data_scadenta']])\n",
    "pdf.table_row([''])\n",
    "\n",
    "\n",
    "# Date client/furnizor\n",
    "pdf.table_header(data['header_date_client_furnizor'], align=Align.L)\n",
    "\n",
    "contact_info = [\n",
    "    [data['nume_lang'], data['nume_furnizor'], data['nume_client']],\n",
    "    [data['nr_reg_com_lang'], data['nr_reg_com_furnizor'], data['nr_reg_com_client']],\n",
    "    [data['cif_lang'], data['cif_furnizor'], data['cif_client']],\n",
    "    [data['adresa_lang'], data['adresa_furnizor'], data['adresa_client']],\n",
    "    [data['email_lang'], data['email_furnizor'], data['email_client']],\n",
    "    [data['telefon_lang'], data['telefon_furnizor'], data['telefon_client']],\n",
    "    [data['iban_lang'], data['iban_furnizor'], data['iban_client']]\n",
    "]\n",
    "\n",
    "for ci in contact_info:\n",
    "    pdf.table_row(ci, width_list=[30, 80, 80], option='responsive')\n",
    "    \n",
    "pdf.table_row([''])\n",
    "\n",
    "\n",
    "# Produse sau servicii\n",
    "pdf.table_header(['*'], align=Align.C)\n",
    "\n",
    "\n",
    "pdf.table_row(data['header_produse_servicii'], option='responsive')\n",
    "\n",
    "for ps in data['produse_sau_servicii']:\n",
    "    psrow = list(ps.values())\n",
    "    pdf.table_row(psrow, option='responsive')\n",
    "    \n",
    "pdf.table_row([''])\n",
    "\n",
    "# Total si nota\n",
    "\n",
    "pdf.table_header([f\"{data['header_total_de_plata']} {data['total_de_plata']} {data[\"valuta\"]}\"], align=Align.R)\n",
    "\n",
    "\n",
    "pdf.output(\"minimal_example.pdf\")\n"
   ]
  },
  {
   "cell_type": "code",
   "execution_count": null,
   "id": "798a3d6a-0e0f-40e2-8c9c-8e567472b0a9",
   "metadata": {},
   "outputs": [],
   "source": []
  },
  {
   "cell_type": "code",
   "execution_count": null,
   "id": "dfc6da4d-7e76-488a-af67-a7ba45fc38c1",
   "metadata": {},
   "outputs": [],
   "source": []
  },
  {
   "cell_type": "code",
   "execution_count": null,
   "id": "d3a0d9f7-245b-4b64-aed8-fd831cd5c502",
   "metadata": {},
   "outputs": [],
   "source": []
  },
  {
   "cell_type": "code",
   "execution_count": null,
   "id": "2ab16726-10e0-41a8-ac31-0deee24dfefa",
   "metadata": {},
   "outputs": [],
   "source": []
  },
  {
   "cell_type": "code",
   "execution_count": null,
   "id": "8711e76e-ef47-4804-a78f-707139d5d79d",
   "metadata": {},
   "outputs": [],
   "source": []
  },
  {
   "cell_type": "code",
   "execution_count": null,
   "id": "cfd946fa-d86c-480a-9ce8-da057ede88a7",
   "metadata": {},
   "outputs": [],
   "source": []
  },
  {
   "cell_type": "code",
   "execution_count": null,
   "id": "3d741daa-831b-4a44-8392-4c9371c068ac",
   "metadata": {},
   "outputs": [],
   "source": []
  },
  {
   "cell_type": "code",
   "execution_count": null,
   "id": "af807f3b-1e2e-4cc3-9e40-a5aafb25c202",
   "metadata": {},
   "outputs": [],
   "source": []
  },
  {
   "cell_type": "code",
   "execution_count": null,
   "id": "a53ebe72-b59c-4cdc-9074-d2a16938b878",
   "metadata": {},
   "outputs": [],
   "source": []
  },
  {
   "cell_type": "code",
   "execution_count": null,
   "id": "a58e59e6-49e7-4060-a78d-900f4e565b65",
   "metadata": {},
   "outputs": [],
   "source": []
  },
  {
   "cell_type": "code",
   "execution_count": null,
   "id": "0aa0b7a6-5763-4928-a5ca-a4e193fba3e6",
   "metadata": {},
   "outputs": [],
   "source": []
  },
  {
   "cell_type": "code",
   "execution_count": null,
   "id": "d9b7c1c5-3901-4fe2-8534-45a85610ddd3",
   "metadata": {},
   "outputs": [],
   "source": []
  }
 ],
 "metadata": {
  "kernelspec": {
   "display_name": "Python 3 (ipykernel)",
   "language": "python",
   "name": "python3"
  },
  "language_info": {
   "codemirror_mode": {
    "name": "ipython",
    "version": 3
   },
   "file_extension": ".py",
   "mimetype": "text/x-python",
   "name": "python",
   "nbconvert_exporter": "python",
   "pygments_lexer": "ipython3",
   "version": "3.12.6"
  }
 },
 "nbformat": 4,
 "nbformat_minor": 5
}
